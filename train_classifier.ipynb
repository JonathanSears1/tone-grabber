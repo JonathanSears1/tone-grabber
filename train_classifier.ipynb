{
 "cells": [
  {
   "cell_type": "code",
   "execution_count": 1,
   "metadata": {},
   "outputs": [
    {
     "name": "stderr",
     "output_type": "stream",
     "text": [
      "/home/jonat/tone-grabber/tone-grabber-torch/lib/python3.10/site-packages/tqdm/auto.py:21: TqdmWarning: IProgress not found. Please update jupyter and ipywidgets. See https://ipywidgets.readthedocs.io/en/stable/user_install.html\n",
      "  from .autonotebook import tqdm as notebook_tqdm\n"
     ]
    },
    {
     "name": "stdout",
     "output_type": "stream",
     "text": [
      "cuda\n"
     ]
    }
   ],
   "source": [
    "import torch\n",
    "from transformers import ASTModel\n",
    "from sklearn.metrics import accuracy_score, roc_auc_score\n",
    "from torch.utils.data import DataLoader\n",
    "from sklearn.model_selection import train_test_split\n",
    "import tqdm\n",
    "import pickle\n",
    "device = torch.device(\"cuda\" if torch.cuda.is_available() else \"cpu\")\n",
    "print(device)"
   ]
  },
  {
   "cell_type": "code",
   "execution_count": null,
   "metadata": {},
   "outputs": [],
   "source": [
    "class EffectClassifier(torch.nn.Module):\n",
    "    def __init__(self, n_classes, embed_dim=768):\n",
    "        super(EffectClassifier, self).__init__()\n",
    "        self.cnn = torch.nn.Sequential(\n",
    "            torch.nn.Conv2d(1, 32, kernel_size=(3, 3), stride=(1, 1)),\n",
    "            torch.nn.BatchNorm2d(32),\n",
    "            torch.nn.ReLU(),\n",
    "            torch.nn.MaxPool2d(kernel_size=(2, 2), stride=(2, 2)),\n",
    "            torch.nn.Conv2d(32, 64, kernel_size=(3, 3), stride=(1, 1)),\n",
    "            torch.nn.BatchNorm2d(64),\n",
    "            torch.nn.ReLU(),\n",
    "            torch.nn.MaxPool2d(kernel_size=(2, 2), stride=(2, 2)),\n",
    "            torch.nn.Conv2d(64, 128, kernel_size=(3, 3), stride=(1, 1)),\n",
    "            torch.nn.BatchNorm2d(128),\n",
    "            torch.nn.ReLU(),\n",
    "            torch.nn.MaxPool2d(kernel_size=(2, 2), stride=(2, 2)),\n",
    "            torch.nn.Flatten()\n",
    "        )\n",
    "        self.mlp = torch.nn.Sequential(\n",
    "            torch.nn.Linear(128 * 1764, embed_dim),  # Adjust input size to match flattened output\n",
    "            torch.nn.ReLU(),\n",
    "            torch.nn.LayerNorm(embed_dim),\n",
    "            torch.nn.Linear(embed_dim, embed_dim),\n",
    "            torch.nn.ReLU(),\n",
    "            torch.nn.LayerNorm(embed_dim),\n",
    "            torch.nn.Linear(embed_dim, embed_dim),\n",
    "        )\n",
    "        self.attn = torch.nn.MultiheadAttention(embed_dim * 2, num_heads=2, dropout=.1, batch_first=True)\n",
    "        self.fc = torch.nn.Linear(embed_dim * 2, embed_dim)\n",
    "        self.cls = torch.nn.Linear(embed_dim, n_classes)\n",
    "    def forward(self, x_wet, x_dry):\n",
    "        x_wet = self.cnn(x_wet.unsqueeze(1))  # Adjust unsqueeze dimension\n",
    "        x_dry = self.cnn(x_dry.unsqueeze(1))  # Adjust unsqueeze dimension\n",
    "        x_wet = self.mlp(x_wet)\n",
    "        x_dry = self.mlp(x_dry)\n",
    "        x = torch.cat([x_wet, x_dry], dim=1)\n",
    "        x, _ = self.attn(x, x, x)  # Unpack attn output\n",
    "        x = self.cls(self.fc(x))\n",
    "        return x"
   ]
  },
  {
   "cell_type": "code",
   "execution_count": 3,
   "metadata": {},
   "outputs": [],
   "source": [
    "from dataset.data_generator import DataGenerator\n",
    "from pedalboard import Chorus, Reverb, Delay, Distortion, Gain\n",
    "effects_parameters = {\n",
    "    \"Reverb\": {\n",
    "        \"room_size\": (0, 1),\n",
    "        \"damping\": (0, 1),\n",
    "        \"wet_level\": (0, 1),\n",
    "        \"dry_level\": (0, 1),\n",
    "        \"width\": (0, 1),\n",
    "        \"freeze_mode\": (0, 1)\n",
    "    },\n",
    "    \"Delay\": {\n",
    "        \"delay_seconds\": (0, 2),\n",
    "        \"feedback\": (0, 1),\n",
    "        \"mix\": (0, 1)\n",
    "    },\n",
    "    \"Gain\": {\n",
    "        \"gain_db\": (-60, 24)\n",
    "    },\n",
    "    \"Chorus\": {\n",
    "        \"rate_hz\": (0.1, 5.0),\n",
    "        \"depth\": (0, 1),\n",
    "        \"centre_delay_ms\": (0, 50),\n",
    "        \"feedback\": (-1, 1),\n",
    "        \"mix\": (0, 1)\n",
    "    },\n",
    "    \"Distortion\": {\n",
    "        \"drive_db\": (0, 60)\n",
    "    }\n",
    "    }\n",
    "\n",
    "effects = [Chorus, Reverb, Delay, Gain, Distortion]\n",
    "\n",
    "generator = DataGenerator(effects_parameters, effects)"
   ]
  },
  {
   "cell_type": "code",
   "execution_count": 4,
   "metadata": {},
   "outputs": [],
   "source": [
    "import json\n",
    "import pandas as pd\n",
    "\n",
    "with open('data/nsynth-train.jsonwav/nsynth-train/examples.json', 'r') as f:\n",
    "    data = json.load(f)\n",
    "df = pd.DataFrame.from_records(data)\n",
    "df = df.T\n",
    "guitar_df = df[df['instrument_family_str'] == 'guitar']\n",
    "elctric_guitar_df = guitar_df[guitar_df['instrument_source_str'] == \"electronic\"]\n",
    "elctric_guitar_df = elctric_guitar_df.sample(1000)\n",
    "dry_tones = [dry_tone + \".wav\" for dry_tone in elctric_guitar_df['note_str'].tolist()]"
   ]
  },
  {
   "cell_type": "code",
   "execution_count": 5,
   "metadata": {},
   "outputs": [
    {
     "name": "stderr",
     "output_type": "stream",
     "text": [
      "100%|██████████| 1000/1000 [00:33<00:00, 30.13it/s]\n"
     ]
    }
   ],
   "source": [
    "dataset = generator.create_data(10, 'data/nsynth-train.jsonwav/nsynth-train/audio',dry_tones=dry_tones,max_chain_length=1)"
   ]
  },
  {
   "cell_type": "code",
   "execution_count": 6,
   "metadata": {},
   "outputs": [],
   "source": [
    "train_data, test_data = train_test_split(dataset, test_size=0.2)\n",
    "test_data, val_data = train_test_split(test_data, test_size=0.5)\n",
    "train_loader = DataLoader(train_data, batch_size=4, shuffle=True)\n",
    "test_loader = DataLoader(test_data, batch_size=4, shuffle=False)\n",
    "val_loader = DataLoader(val_data, batch_size=4, shuffle=False)"
   ]
  },
  {
   "cell_type": "code",
   "execution_count": 7,
   "metadata": {},
   "outputs": [],
   "source": [
    "def eval(model, loss_fn, dl):\n",
    "    model.eval()\n",
    "    total_loss = 0\n",
    "    labels = []\n",
    "    labels_ = []\n",
    "    preds = []\n",
    "    logits = []\n",
    "    for batch in tqdm.tqdm(dl):\n",
    "        wet_features = batch['wet_tone_features'].to(device)\n",
    "        dry_features = batch['dry_tone_features'].to(device)\n",
    "        label = batch['effects'].to(device)\n",
    "        with torch.no_grad():\n",
    "            logits_ = model(wet_features, dry_features)\n",
    "        loss = loss_fn(logits_, label)\n",
    "        total_loss += loss.item()\n",
    "        for i in range(logits_.shape[0]):\n",
    "            preds.append(torch.argmax(logits_[i], dim=0).cpu().numpy())\n",
    "            labels.append(torch.argmax(label[i], dim=0).cpu().numpy())\n",
    "            labels_.append(torch.nn.functional.one_hot(torch.argmax(label[i], dim=0), num_classes=5).cpu().numpy())\n",
    "            logits.append(logits_[i].cpu().numpy())\n",
    "    loss = total_loss\n",
    "    print(f\"Test: Accuracy:{accuracy_score(labels, preds)} | AUROC: {roc_auc_score(labels_, logits)} | Total Loss:{total_loss}\")\n",
    "    return loss"
   ]
  },
  {
   "cell_type": "code",
   "execution_count": 8,
   "metadata": {},
   "outputs": [],
   "source": [
    "def train(model, optimizer, loss_fn, train_loader,test_loader,lr_scheduler, epochs=10):\n",
    "    model.train()\n",
    "    min_loss = 99999999\n",
    "    labels = []\n",
    "    labels_ = []\n",
    "    preds = []\n",
    "    logits = []\n",
    "    for epoch in range(epochs):\n",
    "        total_loss = 0\n",
    "        for batch in tqdm.tqdm(train_loader):\n",
    "            optimizer.zero_grad()\n",
    "            wet_features = batch['wet_tone_features'].to(device)\n",
    "            dry_features = batch['dry_tone_features'].to(device)\n",
    "            label = batch['effects'].to(device)\n",
    "            output = model(wet_features,dry_features)\n",
    "            loss = loss_fn(output, label)\n",
    "            loss.backward()\n",
    "            optimizer.step()\n",
    "            total_loss += loss.item()\n",
    "            for i in range(output.shape[0]):\n",
    "                preds.append(torch.argmax(output[i], dim=0).detach().cpu().numpy())\n",
    "                labels.append(torch.argmax(label[i], dim=0).detach().cpu().numpy())\n",
    "                labels_.append(torch.nn.functional.one_hot(torch.argmax(label[i], dim=0), num_classes=5).detach().cpu().numpy())\n",
    "                logits.append(output[i].detach().cpu().numpy())\n",
    "        print(f\"Train: Epoch {epoch+1} | Accuracy: {accuracy_score(labels,preds)} | AUROC: {roc_auc_score(labels_,logits)} | Loss: {total_loss}\")\n",
    "        loss = eval(model, loss_fn, test_loader)\n",
    "        lr_scheduler.step(loss)\n",
    "        if loss < min_loss:\n",
    "            print(f\"saving model at epoch {epoch+1}\")\n",
    "            min_loss = loss\n",
    "            torch.save(model.state_dict(), \"saved_models/multiclass_model.pth\")\n",
    "    return"
   ]
  },
  {
   "cell_type": "code",
   "execution_count": 9,
   "metadata": {},
   "outputs": [
    {
     "name": "stderr",
     "output_type": "stream",
     "text": [
      "/home/jonat/tone-grabber/tone-grabber-torch/lib/python3.10/site-packages/torch/optim/lr_scheduler.py:62: UserWarning: The verbose parameter is deprecated. Please use get_last_lr() to access the learning rate.\n",
      "  warnings.warn(\n"
     ]
    }
   ],
   "source": [
    "model = EffectClassifier(5).to(device)\n",
    "optimizer = torch.optim.Adam(model.parameters(), lr=.000002)\n",
    "scheduler = torch.optim.lr_scheduler.ReduceLROnPlateau(optimizer, 'min', patience=2, factor=0.5, verbose=True)\n",
    "loss_fn = torch.nn.CrossEntropyLoss()"
   ]
  },
  {
   "cell_type": "code",
   "execution_count": 10,
   "metadata": {},
   "outputs": [
    {
     "name": "stderr",
     "output_type": "stream",
     "text": [
      "100%|██████████| 2000/2000 [03:56<00:00,  8.44it/s]\n"
     ]
    },
    {
     "name": "stdout",
     "output_type": "stream",
     "text": [
      "Train: Epoch 1 | Accuracy: 0.47975 | AUROC: 0.7641257337047731 | Loss: 2327.3662753999233\n"
     ]
    },
    {
     "name": "stderr",
     "output_type": "stream",
     "text": [
      "100%|██████████| 250/250 [00:05<00:00, 48.13it/s]\n"
     ]
    },
    {
     "name": "stdout",
     "output_type": "stream",
     "text": [
      "Test: Accuracy:0.605 | AUROC: 0.8405208019501714 | Total Loss:219.37120484560728\n",
      "saving model at epoch 1\n"
     ]
    },
    {
     "name": "stderr",
     "output_type": "stream",
     "text": [
      "100%|██████████| 2000/2000 [03:53<00:00,  8.56it/s]\n"
     ]
    },
    {
     "name": "stdout",
     "output_type": "stream",
     "text": [
      "Train: Epoch 2 | Accuracy: 0.594125 | AUROC: 0.820378244181706 | Loss: 1436.5103344139643\n"
     ]
    },
    {
     "name": "stderr",
     "output_type": "stream",
     "text": [
      "100%|██████████| 250/250 [00:05<00:00, 48.30it/s]\n"
     ]
    },
    {
     "name": "stdout",
     "output_type": "stream",
     "text": [
      "Test: Accuracy:0.785 | AUROC: 0.9063004219655728 | Total Loss:146.46221427666023\n",
      "saving model at epoch 2\n"
     ]
    },
    {
     "name": "stderr",
     "output_type": "stream",
     "text": [
      "100%|██████████| 2000/2000 [03:53<00:00,  8.56it/s]\n"
     ]
    },
    {
     "name": "stdout",
     "output_type": "stream",
     "text": [
      "Train: Epoch 3 | Accuracy: 0.6649166666666667 | AUROC: 0.8490211266843231 | Loss: 1033.6475739325397\n"
     ]
    },
    {
     "name": "stderr",
     "output_type": "stream",
     "text": [
      "100%|██████████| 250/250 [00:05<00:00, 48.97it/s]\n"
     ]
    },
    {
     "name": "stdout",
     "output_type": "stream",
     "text": [
      "Test: Accuracy:0.819 | AUROC: 0.9168070894551693 | Total Loss:117.70435094553977\n",
      "saving model at epoch 3\n"
     ]
    },
    {
     "name": "stderr",
     "output_type": "stream",
     "text": [
      "100%|██████████| 2000/2000 [03:53<00:00,  8.58it/s]\n"
     ]
    },
    {
     "name": "stdout",
     "output_type": "stream",
     "text": [
      "Train: Epoch 4 | Accuracy: 0.7075 | AUROC: 0.8673932065244584 | Loss: 857.264041812974\n"
     ]
    },
    {
     "name": "stderr",
     "output_type": "stream",
     "text": [
      "100%|██████████| 250/250 [00:05<00:00, 47.94it/s]\n"
     ]
    },
    {
     "name": "stdout",
     "output_type": "stream",
     "text": [
      "Test: Accuracy:0.859 | AUROC: 0.9268608151814741 | Total Loss:98.57876202929765\n",
      "saving model at epoch 4\n"
     ]
    },
    {
     "name": "stderr",
     "output_type": "stream",
     "text": [
      "100%|██████████| 2000/2000 [03:54<00:00,  8.54it/s]\n"
     ]
    },
    {
     "name": "stdout",
     "output_type": "stream",
     "text": [
      "Train: Epoch 5 | Accuracy: 0.7386 | AUROC: 0.8799275507938124 | Loss: 703.027470884932\n"
     ]
    },
    {
     "name": "stderr",
     "output_type": "stream",
     "text": [
      "100%|██████████| 250/250 [00:05<00:00, 47.65it/s]\n"
     ]
    },
    {
     "name": "stdout",
     "output_type": "stream",
     "text": [
      "Test: Accuracy:0.863 | AUROC: 0.9456443549456036 | Total Loss:91.146695549367\n",
      "saving model at epoch 5\n"
     ]
    },
    {
     "name": "stderr",
     "output_type": "stream",
     "text": [
      "100%|██████████| 2000/2000 [03:53<00:00,  8.56it/s]\n"
     ]
    },
    {
     "name": "stdout",
     "output_type": "stream",
     "text": [
      "Train: Epoch 6 | Accuracy: 0.7635 | AUROC: 0.8885772313050179 | Loss: 616.1245798440068\n"
     ]
    },
    {
     "name": "stderr",
     "output_type": "stream",
     "text": [
      "100%|██████████| 250/250 [00:05<00:00, 48.58it/s]\n"
     ]
    },
    {
     "name": "stdout",
     "output_type": "stream",
     "text": [
      "Test: Accuracy:0.887 | AUROC: 0.9493194666155995 | Total Loss:82.30676212569233\n",
      "saving model at epoch 6\n"
     ]
    },
    {
     "name": "stderr",
     "output_type": "stream",
     "text": [
      "100%|██████████| 2000/2000 [03:53<00:00,  8.56it/s]\n"
     ]
    },
    {
     "name": "stdout",
     "output_type": "stream",
     "text": [
      "Train: Epoch 7 | Accuracy: 0.7823571428571429 | AUROC: 0.8958620031142367 | Loss: 555.7871979666525\n"
     ]
    },
    {
     "name": "stderr",
     "output_type": "stream",
     "text": [
      "100%|██████████| 250/250 [00:05<00:00, 47.79it/s]\n"
     ]
    },
    {
     "name": "stdout",
     "output_type": "stream",
     "text": [
      "Test: Accuracy:0.892 | AUROC: 0.947817721701839 | Total Loss:75.57696102559566\n",
      "saving model at epoch 7\n"
     ]
    },
    {
     "name": "stderr",
     "output_type": "stream",
     "text": [
      "100%|██████████| 2000/2000 [03:54<00:00,  8.53it/s]\n"
     ]
    },
    {
     "name": "stdout",
     "output_type": "stream",
     "text": [
      "Train: Epoch 8 | Accuracy: 0.798515625 | AUROC: 0.9016017421996102 | Loss: 495.0430393658753\n"
     ]
    },
    {
     "name": "stderr",
     "output_type": "stream",
     "text": [
      "100%|██████████| 250/250 [00:05<00:00, 48.29it/s]\n"
     ]
    },
    {
     "name": "stdout",
     "output_type": "stream",
     "text": [
      "Test: Accuracy:0.907 | AUROC: 0.95238541703663 | Total Loss:70.83886298639118\n",
      "saving model at epoch 8\n"
     ]
    },
    {
     "name": "stderr",
     "output_type": "stream",
     "text": [
      "100%|██████████| 2000/2000 [03:54<00:00,  8.52it/s]\n"
     ]
    },
    {
     "name": "stdout",
     "output_type": "stream",
     "text": [
      "Train: Epoch 9 | Accuracy: 0.8112361111111112 | AUROC: 0.906441195056195 | Loss: 460.4503088057754\n"
     ]
    },
    {
     "name": "stderr",
     "output_type": "stream",
     "text": [
      "100%|██████████| 250/250 [00:05<00:00, 47.35it/s]\n"
     ]
    },
    {
     "name": "stdout",
     "output_type": "stream",
     "text": [
      "Test: Accuracy:0.878 | AUROC: 0.9437237561596126 | Total Loss:77.39265092008281\n"
     ]
    },
    {
     "name": "stderr",
     "output_type": "stream",
     "text": [
      "100%|██████████| 2000/2000 [03:54<00:00,  8.52it/s]\n"
     ]
    },
    {
     "name": "stdout",
     "output_type": "stream",
     "text": [
      "Train: Epoch 10 | Accuracy: 0.822525 | AUROC: 0.9106188012995465 | Loss: 415.40767438795683\n"
     ]
    },
    {
     "name": "stderr",
     "output_type": "stream",
     "text": [
      "100%|██████████| 250/250 [00:05<00:00, 48.11it/s]\n"
     ]
    },
    {
     "name": "stdout",
     "output_type": "stream",
     "text": [
      "Test: Accuracy:0.89 | AUROC: 0.9570848309708024 | Total Loss:76.94627921532083\n"
     ]
    },
    {
     "name": "stderr",
     "output_type": "stream",
     "text": [
      "100%|██████████| 2000/2000 [03:54<00:00,  8.53it/s]\n"
     ]
    },
    {
     "name": "stdout",
     "output_type": "stream",
     "text": [
      "Train: Epoch 11 | Accuracy: 0.832284090909091 | AUROC: 0.9143696692700786 | Loss: 379.84724001528775\n"
     ]
    },
    {
     "name": "stderr",
     "output_type": "stream",
     "text": [
      "100%|██████████| 250/250 [00:05<00:00, 47.94it/s]\n"
     ]
    },
    {
     "name": "stdout",
     "output_type": "stream",
     "text": [
      "Test: Accuracy:0.904 | AUROC: 0.9581524531412111 | Total Loss:75.04134442388886\n"
     ]
    },
    {
     "name": "stderr",
     "output_type": "stream",
     "text": [
      "100%|██████████| 2000/2000 [03:54<00:00,  8.52it/s]\n"
     ]
    },
    {
     "name": "stdout",
     "output_type": "stream",
     "text": [
      "Train: Epoch 12 | Accuracy: 0.8413854166666667 | AUROC: 0.9175363564333106 | Loss: 318.85044758519143\n"
     ]
    },
    {
     "name": "stderr",
     "output_type": "stream",
     "text": [
      "100%|██████████| 250/250 [00:05<00:00, 47.41it/s]\n"
     ]
    },
    {
     "name": "stdout",
     "output_type": "stream",
     "text": [
      "Test: Accuracy:0.908 | AUROC: 0.9556451573702403 | Total Loss:66.99143869107502\n",
      "saving model at epoch 12\n"
     ]
    },
    {
     "name": "stderr",
     "output_type": "stream",
     "text": [
      "100%|██████████| 2000/2000 [03:55<00:00,  8.51it/s]\n"
     ]
    },
    {
     "name": "stdout",
     "output_type": "stream",
     "text": [
      "Train: Epoch 13 | Accuracy: 0.8492692307692308 | AUROC: 0.9204272129711185 | Loss: 296.9192143608889\n"
     ]
    },
    {
     "name": "stderr",
     "output_type": "stream",
     "text": [
      "100%|██████████| 250/250 [00:02<00:00, 90.41it/s] \n"
     ]
    },
    {
     "name": "stdout",
     "output_type": "stream",
     "text": [
      "Test: Accuracy:0.915 | AUROC: 0.9556221810014573 | Total Loss:66.74520796797879\n",
      "saving model at epoch 13\n"
     ]
    },
    {
     "name": "stderr",
     "output_type": "stream",
     "text": [
      "100%|██████████| 2000/2000 [03:59<00:00,  8.34it/s]\n"
     ]
    },
    {
     "name": "stdout",
     "output_type": "stream",
     "text": [
      "Train: Epoch 14 | Accuracy: 0.8563125 | AUROC: 0.923022711086173 | Loss: 276.194009509396\n"
     ]
    },
    {
     "name": "stderr",
     "output_type": "stream",
     "text": [
      "100%|██████████| 250/250 [00:05<00:00, 47.36it/s]\n"
     ]
    },
    {
     "name": "stdout",
     "output_type": "stream",
     "text": [
      "Test: Accuracy:0.907 | AUROC: 0.9579265238797156 | Total Loss:69.99895143139156\n"
     ]
    },
    {
     "name": "stderr",
     "output_type": "stream",
     "text": [
      "100%|██████████| 2000/2000 [03:55<00:00,  8.51it/s]\n"
     ]
    },
    {
     "name": "stdout",
     "output_type": "stream",
     "text": [
      "Train: Epoch 15 | Accuracy: 0.862625 | AUROC: 0.9252555852104116 | Loss: 265.3064521079383\n"
     ]
    },
    {
     "name": "stderr",
     "output_type": "stream",
     "text": [
      "100%|██████████| 250/250 [00:05<00:00, 47.32it/s]\n"
     ]
    },
    {
     "name": "stdout",
     "output_type": "stream",
     "text": [
      "Test: Accuracy:0.912 | AUROC: 0.9590125767285308 | Total Loss:67.14544354036661\n"
     ]
    },
    {
     "name": "stderr",
     "output_type": "stream",
     "text": [
      "100%|██████████| 2000/2000 [03:52<00:00,  8.60it/s]\n"
     ]
    },
    {
     "name": "stdout",
     "output_type": "stream",
     "text": [
      "Train: Epoch 16 | Accuracy: 0.86828125 | AUROC: 0.927286458754567 | Loss: 244.48767403190323\n"
     ]
    },
    {
     "name": "stderr",
     "output_type": "stream",
     "text": [
      "100%|██████████| 250/250 [00:05<00:00, 47.30it/s]\n"
     ]
    },
    {
     "name": "stdout",
     "output_type": "stream",
     "text": [
      "Test: Accuracy:0.907 | AUROC: 0.9547649163209115 | Total Loss:72.75404021641225\n"
     ]
    },
    {
     "name": "stderr",
     "output_type": "stream",
     "text": [
      "100%|██████████| 2000/2000 [03:55<00:00,  8.50it/s]\n"
     ]
    },
    {
     "name": "stdout",
     "output_type": "stream",
     "text": [
      "Train: Epoch 17 | Accuracy: 0.8736029411764706 | AUROC: 0.9291890082095671 | Loss: 221.1672965685575\n"
     ]
    },
    {
     "name": "stderr",
     "output_type": "stream",
     "text": [
      "100%|██████████| 250/250 [00:05<00:00, 47.23it/s]\n"
     ]
    },
    {
     "name": "stdout",
     "output_type": "stream",
     "text": [
      "Test: Accuracy:0.91 | AUROC: 0.9551390581328038 | Total Loss:72.18898732495018\n"
     ]
    },
    {
     "name": "stderr",
     "output_type": "stream",
     "text": [
      "100%|██████████| 2000/2000 [03:55<00:00,  8.50it/s]\n"
     ]
    },
    {
     "name": "stdout",
     "output_type": "stream",
     "text": [
      "Train: Epoch 18 | Accuracy: 0.8784166666666666 | AUROC: 0.9309046008028286 | Loss: 207.38291606088478\n"
     ]
    },
    {
     "name": "stderr",
     "output_type": "stream",
     "text": [
      "100%|██████████| 250/250 [00:05<00:00, 47.28it/s]\n"
     ]
    },
    {
     "name": "stdout",
     "output_type": "stream",
     "text": [
      "Test: Accuracy:0.909 | AUROC: 0.9562284416450124 | Total Loss:76.53139106442723\n"
     ]
    },
    {
     "name": "stderr",
     "output_type": "stream",
     "text": [
      "100%|██████████| 2000/2000 [03:55<00:00,  8.50it/s]\n"
     ]
    },
    {
     "name": "stdout",
     "output_type": "stream",
     "text": [
      "Train: Epoch 19 | Accuracy: 0.8828026315789473 | AUROC: 0.9324792916107901 | Loss: 201.06766048076042\n"
     ]
    },
    {
     "name": "stderr",
     "output_type": "stream",
     "text": [
      "100%|██████████| 250/250 [00:05<00:00, 47.27it/s]\n"
     ]
    },
    {
     "name": "stdout",
     "output_type": "stream",
     "text": [
      "Test: Accuracy:0.901 | AUROC: 0.9579326912720483 | Total Loss:75.51038340871219\n"
     ]
    },
    {
     "name": "stderr",
     "output_type": "stream",
     "text": [
      "100%|██████████| 2000/2000 [03:55<00:00,  8.51it/s]\n"
     ]
    },
    {
     "name": "stdout",
     "output_type": "stream",
     "text": [
      "Train: Epoch 20 | Accuracy: 0.88705625 | AUROC: 0.9339888047120134 | Loss: 174.89882247113474\n"
     ]
    },
    {
     "name": "stderr",
     "output_type": "stream",
     "text": [
      "100%|██████████| 250/250 [00:05<00:00, 47.44it/s]\n"
     ]
    },
    {
     "name": "stdout",
     "output_type": "stream",
     "text": [
      "Test: Accuracy:0.905 | AUROC: 0.9571179200925372 | Total Loss:76.3948657559149\n"
     ]
    }
   ],
   "source": [
    "train(model, optimizer, loss_fn, train_loader, test_loader,scheduler, epochs=20)"
   ]
  },
  {
   "cell_type": "code",
   "execution_count": 11,
   "metadata": {},
   "outputs": [
    {
     "name": "stderr",
     "output_type": "stream",
     "text": [
      "100%|██████████| 250/250 [00:06<00:00, 39.86it/s]"
     ]
    },
    {
     "name": "stdout",
     "output_type": "stream",
     "text": [
      "Test: Accuracy:0.776 | AUROC: 0.9073032759029969 | Total Loss:200.8124302340484\n"
     ]
    },
    {
     "name": "stderr",
     "output_type": "stream",
     "text": [
      "\n"
     ]
    },
    {
     "data": {
      "text/plain": [
       "200.8124302340484"
      ]
     },
     "execution_count": 11,
     "metadata": {},
     "output_type": "execute_result"
    }
   ],
   "source": [
    "eval(model, loss_fn, val_loader)"
   ]
  },
  {
   "cell_type": "code",
   "execution_count": null,
   "metadata": {},
   "outputs": [],
   "source": []
  }
 ],
 "metadata": {
  "kernelspec": {
   "display_name": "tone-grabber-torch",
   "language": "python",
   "name": "python3"
  },
  "language_info": {
   "codemirror_mode": {
    "name": "ipython",
    "version": 3
   },
   "file_extension": ".py",
   "mimetype": "text/x-python",
   "name": "python",
   "nbconvert_exporter": "python",
   "pygments_lexer": "ipython3",
   "version": "3.10.12"
  }
 },
 "nbformat": 4,
 "nbformat_minor": 2
}
