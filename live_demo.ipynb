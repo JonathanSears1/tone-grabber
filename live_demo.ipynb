{
 "cells": [
  {
   "cell_type": "markdown",
   "metadata": {},
   "source": [
    "# Live Demo Notebook"
   ]
  },
  {
   "cell_type": "markdown",
   "metadata": {},
   "source": [
    "First we find our input and output devices"
   ]
  },
  {
   "cell_type": "code",
   "execution_count": 1,
   "metadata": {},
   "outputs": [
    {
     "name": "stdout",
     "output_type": "stream",
     "text": [
      "   0 Microsoft Sound Mapper - Input, MME (2 in, 0 out)\n",
      ">  1 Microphone Array (Realtek(R) Au, MME (4 in, 0 out)\n",
      "   2 Microsoft Sound Mapper - Output, MME (0 in, 2 out)\n",
      "<  3 Speakers (Realtek(R) Audio), MME (0 in, 2 out)\n",
      "   4 Primary Sound Capture Driver, Windows DirectSound (2 in, 0 out)\n",
      "   5 Microphone Array (Realtek(R) Audio), Windows DirectSound (4 in, 0 out)\n",
      "   6 Primary Sound Driver, Windows DirectSound (0 in, 2 out)\n",
      "   7 Speakers (Realtek(R) Audio), Windows DirectSound (0 in, 2 out)\n",
      "   8 Speakers (Realtek(R) Audio), Windows WASAPI (0 in, 2 out)\n",
      "   9 Microphone Array (Realtek(R) Audio), Windows WASAPI (4 in, 0 out)\n",
      "  10 Speakers (), Windows WDM-KS (0 in, 2 out)\n",
      "  11 Microphone (Realtek HD Audio Mic input), Windows WDM-KS (2 in, 0 out)\n",
      "  12 Headphones (Realtek HD Audio 2nd output), Windows WDM-KS (0 in, 2 out)\n",
      "  13 Microphone Array (Realtek HD Audio Mic Array input), Windows WDM-KS (4 in, 0 out)\n",
      "  14 Speakers 1 (Realtek HD Audio output with HAP), Windows WDM-KS (0 in, 2 out)\n",
      "  15 Speakers 2 (Realtek HD Audio output with HAP), Windows WDM-KS (0 in, 2 out)\n",
      "  16 PC Speaker (Realtek HD Audio output with HAP), Windows WDM-KS (2 in, 0 out)\n",
      "  17 Communication Speaker (), Windows WDM-KS (0 in, 1 out)\n",
      "  18 Headset Microphone (), Windows WDM-KS (1 in, 0 out)\n",
      "  19 Output 1 (), Windows WDM-KS (0 in, 2 out)\n",
      "  20 Output 2 (), Windows WDM-KS (0 in, 6 out)\n",
      "  21 Input (), Windows WDM-KS (2 in, 0 out)\n",
      "  22 Output (), Windows WDM-KS (0 in, 1 out)\n",
      "  23 Headset (), Windows WDM-KS (1 in, 0 out)\n",
      "  24 Output 1 (), Windows WDM-KS (0 in, 2 out)\n",
      "  25 Output 2 (), Windows WDM-KS (0 in, 6 out)\n",
      "  26 Input (), Windows WDM-KS (2 in, 0 out)\n",
      "  27 Headphones (), Windows WDM-KS (0 in, 2 out)\n"
     ]
    }
   ],
   "source": [
    "import sounddevice as sd\n",
    "from model.classifier import EffectClassifier\n",
    "from model.parameter_prediction import ParameterPredictionResNet\n",
    "from model.utils import PostProcessor\n",
    "import pickle\n",
    "import torch\n",
    "from dataset.feature_extractor_torch import FeatureExtractorTorch\n",
    "from pedalboard import Distortion, Gain, PitchShift, LowpassFilter, HighpassFilter\n",
    "import numpy as np\n",
    "print(sd.query_devices())"
   ]
  },
  {
   "cell_type": "markdown",
   "metadata": {},
   "source": [
    "Load in our models"
   ]
  },
  {
   "cell_type": "code",
   "execution_count": null,
   "metadata": {},
   "outputs": [],
   "source": [
    "device = torch.device(\"cuda\" if torch.cuda.is_available() else \"cpu\")\n",
    "\n",
    "effects = [Distortion, Gain, PitchShift, LowpassFilter, HighpassFilter]\n",
    "effects_to_parameters = {\n",
    "        \"Gain\": {\n",
    "            \"gain_db\": [-60, 24]\n",
    "        },\n",
    "        \"Distortion\": {\n",
    "            \"drive_db\": [0, 60]\n",
    "        },\n",
    "        \"PitchShift\": {\n",
    "        \"semitones\": [-12, 12]\n",
    "        },\n",
    "        \"HighpassFilter\": {\n",
    "        \"cutoff_frequency_hz\": [20, 20000]\n",
    "        },\n",
    "        \"LowpassFilter\": {\n",
    "        \"cutoff_frequency_hz\": [20, 20000]\n",
    "        }\n",
    "    }\n",
    "\n",
    "with open('saved_models/classifier_metadata.pkl', 'rb') as f:\n",
    "    metadata = pickle.load(f)\n",
    "param_mask = metadata['parameter_mask_idx']\n",
    "num_parameters = metadata['total_parameters']\n",
    "num_effects = len(metadata['effect_to_idx'].keys())\n",
    "classifier = EffectClassifier(num_effects,batch_size=1).to(device)\n",
    "classifier.load_state_dict(torch.load(\"saved_models/multiclass_model.pth\",weights_only=False))\n",
    "classifier.eval()\n",
    "feature_extractor = FeatureExtractorTorch()\n",
    "parameter_model_dict = {}\n",
    "for effect_name, param_dict in effects_to_parameters.items():\n",
    "    model = ParameterPredictionResNet(768,len(param_dict.values())).to(device)\n",
    "    model.load_state_dict(torch.load(f\"saved_models/{effect_name}_parameter_prediction.pth\",weights_only=False),strict=False)\n",
    "    parameter_model_dict[effect_name] = model.eval()"
   ]
  },
  {
   "cell_type": "markdown",
   "metadata": {},
   "source": [
    "Define the prediction function that can go from wet tone and dry tone -> pedalboard effect object with parameters set"
   ]
  },
  {
   "cell_type": "code",
   "execution_count": null,
   "metadata": {},
   "outputs": [],
   "source": [
    "def predict(wet_tone, dry_tone, classifier=classifier, parameter_model_dict=parameter_model_dict, metadata=metadata, post_processor=PostProcessor(metadata)):\n",
    "    dry_tone_spec = feature_extractor.get_spectrogram(np.array(dry_tone)).to(device)\n",
    "    wet_tone_spec = feature_extractor.get_spectrogram(np.array(wet_tone)).to(device)\n",
    "    \n",
    "    effect = classifier(dry_tone_spec, wet_tone_spec)\n",
    "    print(effect)\n",
    "    effect_idx = torch.argmax(effect)\n",
    "    effect_name = metadata['index_to_effect'][int(effect_idx)]\n",
    "    print(effect_name)\n",
    "    \n",
    "    joint_spec = torch.cat((dry_tone_spec.unsqueeze(0),wet_tone_spec.unsqueeze(0)),dim=1)\n",
    "    param_model = parameter_model_dict[effect_name]\n",
    "    params = param_model(joint_spec.to(device))\n",
    "    print(params)\n",
    "    # Example if your model supports this\n",
    "    effect_name, predicted_tone, predicted_effect = post_processor.process_audio_from_outputs(effect,params,metadata)\n",
    "    print(effect_name)\n",
    "    return predicted_effect"
   ]
  },
  {
   "cell_type": "code",
   "execution_count": null,
   "metadata": {},
   "outputs": [],
   "source": [
    "import librosa\n",
    "wet_tone = librosa.load(\"WET_TONE_PATH\")\n",
    "dry_tone = librosa.load(\"DRY_TONE_PATH\")\n",
    "predicted_pedalboard = predict(wet_tone, dry_tone)"
   ]
  },
  {
   "cell_type": "code",
   "execution_count": null,
   "metadata": {},
   "outputs": [],
   "source": [
    "from pedalboard import Pedalboard, Chorus, Compressor, Delay, Gain, Reverb, Phaser\n",
    "from pedalboard.io import AudioStream\n",
    "\n",
    "# Open up an audio stream:\n",
    "input_device_name = \"IN 05 (BEHRINGER UMC 1820)\"\n",
    "output_device_name = \"Speakers (Realtek(R) Audio)\"\n",
    "\n",
    "with AudioStream(\n",
    "  input_device_name=input_device_name,  # Guitar interface\n",
    "  output_device_name=output_device_name,\n",
    "  num_input_channels=1\n",
    ") as stream:\n",
    "  # Audio is now streaming through this pedalboard and out of your speakers!\n",
    "  stream.plugins = predicted_pedalboard\n",
    "  input(\"Press enter to stop streaming...\")\n",
    "\n",
    "# The live AudioStream is now closed, and audio has stopped."
   ]
  }
 ],
 "metadata": {
  "kernelspec": {
   "display_name": "venv",
   "language": "python",
   "name": "python3"
  },
  "language_info": {
   "codemirror_mode": {
    "name": "ipython",
    "version": 3
   },
   "file_extension": ".py",
   "mimetype": "text/x-python",
   "name": "python",
   "nbconvert_exporter": "python",
   "pygments_lexer": "ipython3",
   "version": "3.10.11"
  }
 },
 "nbformat": 4,
 "nbformat_minor": 2
}
