{
 "cells": [
  {
   "cell_type": "code",
   "execution_count": 5,
   "metadata": {},
   "outputs": [],
   "source": [
    "import pandas as pd\n",
    "from dataset.data_generate import DataGenerator\n",
    "from pedalboard import Pedalboard, Chorus, Reverb, Delay, Gain, Distortion\n",
    "import pickle"
   ]
  },
  {
   "cell_type": "code",
   "execution_count": 6,
   "metadata": {},
   "outputs": [
    {
     "data": {
      "text/plain": [
       "700"
      ]
     },
     "execution_count": 6,
     "metadata": {},
     "output_type": "execute_result"
    }
   ],
   "source": [
    "df = pd.read_csv('data/instrument_dataset/Metadata_Train.csv')\n",
    "guitar_df = df[df['Class'] == 'Sound_Guitar']\n",
    "len(guitar_df)"
   ]
  },
  {
   "cell_type": "code",
   "execution_count": 7,
   "metadata": {},
   "outputs": [
    {
     "data": {
      "text/plain": [
       "['1-E1-Major 00.wav',\n",
       " '1-E1-Major 01.wav',\n",
       " '1-E1-Major 02.wav',\n",
       " '1-E1-Major 03.wav',\n",
       " '1-E1-Major 04.wav',\n",
       " '1-E1-Major 05.wav',\n",
       " '1-E1-Major 06.wav',\n",
       " '1-E1-Major 07.wav',\n",
       " '1-E1-Major 08.wav',\n",
       " '1-E1-Major 09.wav',\n",
       " '1-E1-Major 10.wav',\n",
       " '2-E1-Minor 00.wav',\n",
       " '2-E1-Minor 01.wav',\n",
       " '2-E1-Minor 02.wav',\n",
       " '2-E1-Minor 03.wav',\n",
       " '2-E1-Minor 04.wav',\n",
       " '2-E1-Minor 05.wav',\n",
       " '2-E1-Minor 06.wav',\n",
       " '2-E1-Minor 07.wav',\n",
       " '2-E1-Minor 08.wav']"
      ]
     },
     "execution_count": 7,
     "metadata": {},
     "output_type": "execute_result"
    }
   ],
   "source": [
    "sample_tones = guitar_df['FileName'].tolist()[:20]\n",
    "sample_tones"
   ]
  },
  {
   "cell_type": "code",
   "execution_count": 9,
   "metadata": {},
   "outputs": [],
   "source": [
    "effects_parameters = {\n",
    "    \"Reverb\": {\n",
    "        \"room_size\": (0, 1),\n",
    "        \"damping\": (0, 1),\n",
    "        \"wet_level\": (0, 1),\n",
    "        \"dry_level\": (0, 1),\n",
    "        \"width\": (0, 1),\n",
    "        \"freeze_mode\": (0, 1)\n",
    "    },\n",
    "    \"Delay\": {\n",
    "        \"delay_seconds\": (0, 2),\n",
    "        \"feedback\": (0, 1),\n",
    "        \"mix\": (0, 1)\n",
    "    },\n",
    "    \"Gain\": {\n",
    "        \"gain_db\": (-60, 24)\n",
    "    },\n",
    "    \"Chorus\": {\n",
    "        \"rate_hz\": (0.1, 5.0),\n",
    "        \"depth\": (0, 1),\n",
    "        \"centre_delay_ms\": (0, 50),\n",
    "        \"feedback\": (-1, 1),\n",
    "        \"mix\": (0, 1)\n",
    "    },\n",
    "    \"Distortion\": {\n",
    "        \"drive_db\": (0, 60)\n",
    "    }\n",
    "    }\n",
    "effects = [Chorus, Reverb, Delay, Gain, Distortion]\n",
    "\n",
    "generator = DataGenerator(effects_parameters, effects)\n",
    "dataset = generator.create_data(25,'data/instrument_dataset/Train_submission/Train_submission',sample_tones,1)"
   ]
  },
  {
   "cell_type": "code",
   "execution_count": 13,
   "metadata": {},
   "outputs": [
    {
     "data": {
      "text/plain": [
       "500"
      ]
     },
     "execution_count": 13,
     "metadata": {},
     "output_type": "execute_result"
    }
   ],
   "source": [
    "len(dataset)"
   ]
  },
  {
   "cell_type": "code",
   "execution_count": 16,
   "metadata": {},
   "outputs": [
    {
     "data": {
      "text/plain": [
       "{'dry_tone_path': 'data/instrument_dataset/Train_submission/Train_submission/1-E1-Major 00.wav',\n",
       " 'wet_tone_path': 'data/wet_tones/1-E1-Major 00_wet_2.wav',\n",
       " 'wet_tone_features': {'input_values': tensor([[[-0.8524, -1.1594, -0.7826,  ..., -1.1067, -1.2069, -1.2149],\n",
       "          [-0.8141, -1.0301, -0.6533,  ..., -1.1767, -1.1890, -1.1740],\n",
       "          [-0.6333, -0.8844, -0.5075,  ..., -1.2776, -1.2776, -1.2020],\n",
       "          ...,\n",
       "          [ 0.4670,  0.4670,  0.4670,  ...,  0.4670,  0.4670,  0.4670],\n",
       "          [ 0.4670,  0.4670,  0.4670,  ...,  0.4670,  0.4670,  0.4670],\n",
       "          [ 0.4670,  0.4670,  0.4670,  ...,  0.4670,  0.4670,  0.4670]]])},\n",
       " 'effect_names': ['Delay'],\n",
       " 'effects': tensor([[0., 0., 1., 0., 0.]]),\n",
       " 'parameters': tensor([[0.0000, 0.0000, 0.0000, 0.0000, 0.0000, 0.0000, 1.0304, 0.1659, 0.2153,\n",
       "          0.0000, 0.0000, 0.0000, 0.0000, 0.0000, 0.0000, 0.0000, 0.0000, 0.0000,\n",
       "          0.0000, 0.0000, 0.0000, 0.0000, 0.0000, 0.0000, 0.0000, 0.0000, 0.0000,\n",
       "          0.0000, 0.0000, 0.0000, 0.0000, 0.0000, 0.0000, 0.0000, 0.0000, 0.0000,\n",
       "          0.0000, 0.0000, 0.0000, 0.0000, 0.0000, 0.0000, 0.0000, 0.0000, 0.0000]]),\n",
       " 'index': 2}"
      ]
     },
     "execution_count": 16,
     "metadata": {},
     "output_type": "execute_result"
    }
   ],
   "source": [
    "dataset[2]"
   ]
  },
  {
   "cell_type": "code",
   "execution_count": 14,
   "metadata": {},
   "outputs": [],
   "source": [
    "with open('data/guitar_sample_dataset_multiclass.pkl', 'wb') as f:\n",
    "    pickle.dump(dataset, f)"
   ]
  },
  {
   "cell_type": "code",
   "execution_count": null,
   "metadata": {},
   "outputs": [],
   "source": []
  }
 ],
 "metadata": {
  "kernelspec": {
   "display_name": "tone-grabber-venv",
   "language": "python",
   "name": "python3"
  },
  "language_info": {
   "codemirror_mode": {
    "name": "ipython",
    "version": 3
   },
   "file_extension": ".py",
   "mimetype": "text/x-python",
   "name": "python",
   "nbconvert_exporter": "python",
   "pygments_lexer": "ipython3",
   "version": "3.12.3"
  }
 },
 "nbformat": 4,
 "nbformat_minor": 2
}
